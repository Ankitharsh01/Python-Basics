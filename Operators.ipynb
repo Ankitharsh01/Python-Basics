{
 "cells": [
  {
   "cell_type": "markdown",
   "id": "69dc251e-5136-4909-bb4b-7163db099ef2",
   "metadata": {},
   "source": [
    "# Operators in Python\n",
    "\n",
    "Operators are symbols that perform operations on variables and values.\n",
    "\n",
    "---\n",
    "\n",
    "##  Types of Operators in Python\n",
    "\n",
    "1. **Arithmetic Operators**\n",
    "2. **Comparison Operators**\n",
    "3. **Logical Operators**\n",
    "4. **Assignment Operators**\n",
    "5. **Bitwise Operators**\n",
    "6. **Membership Operators**\n",
    "7. **Identity Operators**\n",
    "\n",
    "---\n"
   ]
  },
  {
   "cell_type": "code",
   "execution_count": 3,
   "id": "68005d35-ffa7-4b55-a625-103e316b7bb0",
   "metadata": {
    "scrolled": true
   },
   "outputs": [
    {
     "name": "stdout",
     "output_type": "stream",
     "text": [
      "13\n",
      "7\n",
      "30\n",
      "3.3333333333333335\n",
      "3\n",
      "1\n",
      "1000\n"
     ]
    }
   ],
   "source": [
    "#Arithmetic Operator\n",
    "a = 10\n",
    "b = 3\n",
    "\n",
    "print(a + b)   # Addition → 13\n",
    "print(a - b)   # Subtraction → 7\n",
    "print(a * b)   # Multiplication → 30\n",
    "print(a / b)   # Division → 3.333..\n",
    "print(a // b)  # Floor Division → 3 always return in int\n",
    "print(a % b)   # Modulus → 1\n",
    "print(a ** b)  # Exponent → 1000"
   ]
  },
  {
   "cell_type": "code",
   "execution_count": 4,
   "id": "e3e04df6-f507-4df7-a146-34135208307d",
   "metadata": {},
   "outputs": [
    {
     "name": "stdout",
     "output_type": "stream",
     "text": [
      "False\n",
      "True\n",
      "False\n",
      "True\n",
      "False\n",
      "True\n"
     ]
    }
   ],
   "source": [
    "#Comparison Operator\n",
    "x = 5\n",
    "y = 10\n",
    "\n",
    "print(x == y)   # False\n",
    "print(x != y)   # True\n",
    "print(x > y)    # False\n",
    "print(x < y)    # True\n",
    "print(x >= y)   # False\n",
    "print(x <= y)   # True"
   ]
  },
  {
   "cell_type": "code",
   "execution_count": 5,
   "id": "dee7fef4-011c-4e09-9c37-604bc27aea82",
   "metadata": {},
   "outputs": [
    {
     "name": "stdout",
     "output_type": "stream",
     "text": [
      "False\n",
      "True\n",
      "False\n"
     ]
    }
   ],
   "source": [
    "#Logical Operators\n",
    "p = True\n",
    "q = False\n",
    "\n",
    "print(p and q)   # False\n",
    "print(p or q)    # True\n",
    "print(not p)     # False\n"
   ]
  },
  {
   "cell_type": "code",
   "execution_count": 6,
   "id": "b266964d-5607-4667-8143-7097b97ab86b",
   "metadata": {},
   "outputs": [
    {
     "name": "stdout",
     "output_type": "stream",
     "text": [
      "8\n",
      "16\n"
     ]
    }
   ],
   "source": [
    "#Assignment Operators\n",
    "a = 5\n",
    "a += 3   # a = a + 3\n",
    "print(a)  # 8\n",
    "\n",
    "a *= 2   # a = a * 2\n",
    "print(a)  # 16\n"
   ]
  },
  {
   "cell_type": "code",
   "execution_count": 7,
   "id": "1ab1c885-2140-4366-bb64-dcb04b4ff7c0",
   "metadata": {},
   "outputs": [
    {
     "name": "stdout",
     "output_type": "stream",
     "text": [
      "2\n",
      "7\n",
      "5\n",
      "-7\n",
      "12\n",
      "3\n"
     ]
    }
   ],
   "source": [
    "#Bitwise Operators\n",
    "a = 6   # 110 in binary\n",
    "b = 3   # 011 in binary\n",
    "\n",
    "print(a & b)   # AND → 2 (010)\n",
    "print(a | b)   # OR  → 7 (111)\n",
    "print(a ^ b)   # XOR → 5 (101)\n",
    "print(~a)      # NOT → -7\n",
    "print(a << 1)  # Left Shift → 12\n",
    "print(a >> 1)  # Right Shift → 3\n"
   ]
  },
  {
   "cell_type": "code",
   "execution_count": 8,
   "id": "9ccbea16-b2e3-44d6-90b2-abc1baffcf22",
   "metadata": {},
   "outputs": [
    {
     "name": "stdout",
     "output_type": "stream",
     "text": [
      "True\n",
      "True\n"
     ]
    }
   ],
   "source": [
    "#Membership Operator\n",
    "list1 = [1, 2, 3, 4]\n",
    "\n",
    "print(2 in list1)     # True\n",
    "print(5 not in list1) # True\n",
    "\n"
   ]
  },
  {
   "cell_type": "code",
   "execution_count": 9,
   "id": "64e4a281-d362-470d-9c4f-2108c137c5ee",
   "metadata": {},
   "outputs": [
    {
     "name": "stdout",
     "output_type": "stream",
     "text": [
      "False\n",
      "True\n",
      "True\n"
     ]
    }
   ],
   "source": [
    "#Identity Operator\n",
    "x = [1, 2, 3]\n",
    "y = [1, 2, 3]\n",
    "\n",
    "print(x is y)       # False (different objects in memory)\n",
    "print(x == y)       # True (values are same)\n",
    "print(x is not y)   # True\n"
   ]
  },
  {
   "cell_type": "code",
   "execution_count": null,
   "id": "c0badc70-a6d7-4d1d-91df-c973e5d35fef",
   "metadata": {},
   "outputs": [],
   "source": []
  }
 ],
 "metadata": {
  "kernelspec": {
   "display_name": "Python 3 (ipykernel)",
   "language": "python",
   "name": "python3"
  },
  "language_info": {
   "codemirror_mode": {
    "name": "ipython",
    "version": 3
   },
   "file_extension": ".py",
   "mimetype": "text/x-python",
   "name": "python",
   "nbconvert_exporter": "python",
   "pygments_lexer": "ipython3",
   "version": "3.13.5"
  }
 },
 "nbformat": 4,
 "nbformat_minor": 5
}
