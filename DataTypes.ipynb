{
 "cells": [
  {
   "cell_type": "markdown",
   "id": "2238a279-5ef8-45bb-b750-4f945b1a467f",
   "metadata": {},
   "source": [
    "#  Data Types\n",
    "\n",
    "---\n",
    "\n",
    "##  What are Data Types?\n",
    " Data types tell us **what kind of value** is stored in a variable.  \n",
    " Python decides the type automatically (dynamic typing).  \n",
    "\n",
    " Examples:  \n",
    "- `10` → integer (int)  \n",
    "- `3.14` → float  \n",
    "- `\"Ankit\"` → string (str)  \n",
    "- `[1, 2, 3]` → list  \n",
    "\n",
    "---\n"
   ]
  },
  {
   "cell_type": "code",
   "execution_count": 1,
   "id": "6a56dc92-0b0e-459b-b0dd-c8716e142f90",
   "metadata": {},
   "outputs": [
    {
     "name": "stdout",
     "output_type": "stream",
     "text": [
      "<class 'int'>\n",
      "<class 'float'>\n",
      "<class 'str'>\n",
      "<class 'bool'>\n",
      "<class 'list'>\n"
     ]
    }
   ],
   "source": [
    "\n",
    "x = 10          # int\n",
    "y = 3.14        # float\n",
    "name = \"Ankit\" # str\n",
    "is_active = True # bool\n",
    "nums = [1, 2, 3] # list\n",
    "\n",
    "print(type(x))\n",
    "print(type(y))\n",
    "print(type(name))\n",
    "print(type(is_active))\n",
    "print(type(nums))\n"
   ]
  },
  {
   "cell_type": "markdown",
   "id": "3c4bb0ab-7aba-46c3-80b1-9c4663fd5e46",
   "metadata": {},
   "source": [
    "##  Built-in Data Types in Python\n",
    "1. **int** → whole numbers (10, -5, 0)  \n",
    "2. **float** → decimal numbers (3.14, -2.5)  \n",
    "3. **str** → text (\"Ankit\")  \n",
    "4. **bool** → True / False  \n",
    "5. **list** → ordered, mutable collection [1, 2, 3]  \n",
    "6. **tuple** → ordered, immutable collection (1, 2, 3)  \n",
    "7. **set** → unordered, unique elements {1, 2, 3}  \n",
    "8. **dict** → key-value pairs {\"name\": \"Ankit\", \"age\": 21}  \n",
    "\n",
    "---\n"
   ]
  },
  {
   "cell_type": "code",
   "execution_count": 2,
   "id": "f2130947-2b92-43c6-ae0a-992e589a2b50",
   "metadata": {},
   "outputs": [
    {
     "name": "stdout",
     "output_type": "stream",
     "text": [
      "25 <class 'int'>\n",
      "2.718 <class 'float'>\n",
      "this is strinng <class 'str'>\n",
      "False <class 'bool'>\n",
      "[10, 20, 30] <class 'list'>\n",
      "(1, 2, 3) <class 'tuple'>\n",
      "{1, 2, 3} <class 'set'>\n",
      "{'name': 'Ankit', 'lang': 'Python'} <class 'dict'>\n"
     ]
    }
   ],
   "source": [
    "# Examples of each types\n",
    "num1 = 25\n",
    "num2 = 2.718\n",
    "string_val = \"this is strinng\"\n",
    "boolean_val = False\n",
    "list_val = [10, 20, 30]\n",
    "tuple_val = (1, 2, 3)\n",
    "set_val = {1, 2, 2, 3}\n",
    "dict_val = {\"name\": \"Ankit\", \"lang\": \"Python\"}\n",
    "\n",
    "print(num1, type(num1))\n",
    "print(num2, type(num2))\n",
    "print(string_val, type(string_val))\n",
    "print(boolean_val, type(boolean_val))\n",
    "print(list_val, type(list_val))\n",
    "print(tuple_val, type(tuple_val))\n",
    "print(set_val, type(set_val))  # duplicates removed from the set_val\n",
    "print(dict_val, type(dict_val)) \n"
   ]
  },
  {
   "cell_type": "markdown",
   "id": "955114ae-2a90-4628-8297-7b35866e496e",
   "metadata": {},
   "source": [
    "##  Type Casting\n",
    " We can convert values from one type to another using:  \n",
    "- `int()`  \n",
    "- `float()`  \n",
    "- `str()`  \n",
    "- `list()`  \n",
    "- `tuple()`  \n",
    "- `set()`  \n",
    "- `dict()`  \n",
    "\n",
    "---\n"
   ]
  },
  {
   "cell_type": "code",
   "execution_count": 3,
   "id": "6374fe86-b8dc-4152-8f44-584514c85f4c",
   "metadata": {},
   "outputs": [
    {
     "name": "stdout",
     "output_type": "stream",
     "text": [
      "10.0\n",
      "10\n",
      "100\n"
     ]
    }
   ],
   "source": [
    "# Type casting examples\n",
    "num = 10\n",
    "print(float(num))   # converting  int → float\n",
    "print(str(num))     # converting int → str\n",
    "\n",
    "s = \"100\"\n",
    "print(int(s))       # converting str → int\n"
   ]
  },
  {
   "cell_type": "code",
   "execution_count": 4,
   "id": "b9c83eb0-5e60-468f-b745-4687b0d8713a",
   "metadata": {},
   "outputs": [
    {
     "name": "stdout",
     "output_type": "stream",
     "text": [
      "30 <class 'int'>\n"
     ]
    }
   ],
   "source": [
    "a = \"10\"\n",
    "b = \"20\"\n",
    "c = int(a)+int(b)\n",
    "print(c, type(c))"
   ]
  },
  {
   "cell_type": "code",
   "execution_count": null,
   "id": "44512ae6-dbab-4f41-ad9c-05fb005103d8",
   "metadata": {},
   "outputs": [],
   "source": []
  }
 ],
 "metadata": {
  "kernelspec": {
   "display_name": "Python 3 (ipykernel)",
   "language": "python",
   "name": "python3"
  },
  "language_info": {
   "codemirror_mode": {
    "name": "ipython",
    "version": 3
   },
   "file_extension": ".py",
   "mimetype": "text/x-python",
   "name": "python",
   "nbconvert_exporter": "python",
   "pygments_lexer": "ipython3",
   "version": "3.13.5"
  }
 },
 "nbformat": 4,
 "nbformat_minor": 5
}
