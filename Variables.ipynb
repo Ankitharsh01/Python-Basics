{
 "cells": [
  {
   "cell_type": "markdown",
   "id": "a3568678-7180-4206-9995-c50447a9928a",
   "metadata": {},
   "source": [
    " # Variables"
   ]
  },
  {
   "cell_type": "markdown",
   "id": "6f684d77-906c-46ad-9b0d-181a8e14604d",
   "metadata": {},
   "source": [
    "### A variable is like a container or a name that stores a value in memory.\n",
    "### It allows us to reuse data without writing the actual value again and again. "
   ]
  },
  {
   "cell_type": "code",
   "execution_count": 1,
   "id": "4a625651-1c63-4a1e-ae5f-8eecbb346781",
   "metadata": {},
   "outputs": [
    {
     "name": "stdout",
     "output_type": "stream",
     "text": [
      "Age: 21\n",
      "Height: 5.9\n",
      "Name: Ankit\n",
      "Is Student: True\n"
     ]
    }
   ],
   "source": [
    "# Integer \n",
    "age = 21\n",
    "print(\"Age:\", age)\n",
    "\n",
    "# Float\n",
    "height = 5.9\n",
    "print(\"Height:\", height)\n",
    "\n",
    "# String\n",
    "name = \"Ankit\"\n",
    "print(\"Name:\", name)\n",
    "\n",
    "# Boolean \n",
    "is_student = True\n",
    "print(\"Is Student:\", is_student)"
   ]
  },
  {
   "cell_type": "markdown",
   "id": "d9104259-61ad-4352-825a-0a6844f60a6f",
   "metadata": {},
   "source": [
    "##  Rules for Naming Variables\n",
    " Start with a letter or underscore (_)  \n",
    " Can contain letters, numbers, underscores  \n",
    " Case-sensitive → age, Age, and AGE are different  \n",
    " Cannot start with a number  \n",
    " No special characters like @, #, $  \n",
    "\n"
   ]
  },
  {
   "cell_type": "code",
   "execution_count": null,
   "id": "fe93d9a8-833e-43d7-9236-da0134d0358c",
   "metadata": {},
   "outputs": [],
   "source": [
    "# valid names\n",
    "age = 25\n",
    "_name = \"Aman\"\n",
    "roll_no_1 = 10\n"
   ]
  },
  {
   "cell_type": "markdown",
   "id": "fa999198-6c43-4f25-b771-159ada911736",
   "metadata": {},
   "source": [
    "##  Multiple Assignment \n",
    "We can assign values to multiple variables at once.  \n"
   ]
  },
  {
   "cell_type": "code",
   "execution_count": 1,
   "id": "c5b4d2c1-0a32-4d19-92e9-ada36521ff39",
   "metadata": {},
   "outputs": [
    {
     "name": "stdout",
     "output_type": "stream",
     "text": [
      "a = 5 b = 10 c = 15\n",
      "x = 100 y = 100 z = 100\n"
     ]
    }
   ],
   "source": [
    "a, b, c = 5, 10, 15\n",
    "print(\"a =\", a, \"b =\", b, \"c =\", c)\n",
    "\n",
    "x = y = z = 100\n",
    "print(\"x =\", x, \"y =\", y, \"z =\", z)\n"
   ]
  },
  {
   "cell_type": "code",
   "execution_count": null,
   "id": "b15f7497-4ff0-496a-ba7a-1635b9e40b7d",
   "metadata": {},
   "outputs": [],
   "source": []
  }
 ],
 "metadata": {
  "kernelspec": {
   "display_name": "Python 3 (ipykernel)",
   "language": "python",
   "name": "python3"
  },
  "language_info": {
   "codemirror_mode": {
    "name": "ipython",
    "version": 3
   },
   "file_extension": ".py",
   "mimetype": "text/x-python",
   "name": "python",
   "nbconvert_exporter": "python",
   "pygments_lexer": "ipython3",
   "version": "3.13.5"
  }
 },
 "nbformat": 4,
 "nbformat_minor": 5
}
