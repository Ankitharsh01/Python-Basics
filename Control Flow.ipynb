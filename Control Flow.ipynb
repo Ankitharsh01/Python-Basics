{
 "cells": [
  {
   "cell_type": "markdown",
   "id": "78d084b2-2a09-4a25-aaca-0f02dd21da67",
   "metadata": {},
   "source": [
    "# Control Flow"
   ]
  },
  {
   "cell_type": "markdown",
   "id": "8db6cf4a-b40b-466a-a536-27b9b3071177",
   "metadata": {},
   "source": [
    "Control Flow = deciding which part of the code will run.\n",
    "\n",
    " Types:\n",
    "- if\n",
    "- if...else\n",
    "- if...elif...else\n",
    "- Nested if"
   ]
  },
  {
   "cell_type": "markdown",
   "id": "bf6c31c4-371a-4f97-b0c6-380e4c105e32",
   "metadata": {},
   "source": [
    "##  if Statement\n",
    "Runs code **only if condition is TRUE**.\n"
   ]
  },
  {
   "cell_type": "code",
   "execution_count": 1,
   "id": "5a9eb5ae-2d39-47d0-9830-37f46e55839e",
   "metadata": {},
   "outputs": [
    {
     "name": "stdout",
     "output_type": "stream",
     "text": [
      "x is greater than 5\n"
     ]
    }
   ],
   "source": [
    "x = 10\n",
    "if x > 5:\n",
    "    print(\"x is greater than 5\")\n"
   ]
  },
  {
   "cell_type": "markdown",
   "id": "a6b587b2-baac-4cf0-945e-6d44231a3ea6",
   "metadata": {},
   "source": [
    "##  if...else\n",
    "Two paths → one if condition TRUE, another if FALSE.\n"
   ]
  },
  {
   "cell_type": "code",
   "execution_count": 2,
   "id": "1f1eb54a-3270-42a6-a210-3b05cd9e27c0",
   "metadata": {},
   "outputs": [
    {
     "name": "stdout",
     "output_type": "stream",
     "text": [
      "x is less than or equal to 5\n"
     ]
    }
   ],
   "source": [
    "x = 3\n",
    "if x > 5:\n",
    "    print(\"x is greater than 5\")\n",
    "else:\n",
    "    print(\"x is less than or equal to 5\")\n"
   ]
  },
  {
   "cell_type": "markdown",
   "id": "a6760a44-99e9-4d0f-8b84-65edac886254",
   "metadata": {},
   "source": [
    "##  if...elif...else\n",
    "Used when multiple conditions are checked.\n"
   ]
  },
  {
   "cell_type": "code",
   "execution_count": 3,
   "id": "8617a851-d8b0-455d-a264-e9b4987dd9b2",
   "metadata": {},
   "outputs": [
    {
     "name": "stdout",
     "output_type": "stream",
     "text": [
      "Grade B\n"
     ]
    }
   ],
   "source": [
    "marks = 85\n",
    "\n",
    "if marks >= 90:\n",
    "    print(\"Grade A\")\n",
    "elif marks >= 75:\n",
    "    print(\"Grade B\")\n",
    "elif marks >= 50:\n",
    "    print(\"Grade C\")\n",
    "else:\n",
    "    print(\"Fail\")\n"
   ]
  },
  {
   "cell_type": "markdown",
   "id": "2fa94748-def9-4131-8e4f-2d3be77cd25c",
   "metadata": {},
   "source": [
    "##  Nested if\n",
    "`if` inside another `if`.\n"
   ]
  },
  {
   "cell_type": "code",
   "execution_count": 4,
   "id": "03e45ad4-617a-4550-a473-ca33bb57155c",
   "metadata": {},
   "outputs": [
    {
     "name": "stdout",
     "output_type": "stream",
     "text": [
      "x is greater than 10\n",
      "x is also greater than 15\n"
     ]
    }
   ],
   "source": [
    "x = 20\n",
    "if x > 10:\n",
    "    print(\"x is greater than 10\")\n",
    "    if x > 15:\n",
    "        print(\"x is also greater than 15\")\n"
   ]
  },
  {
   "cell_type": "markdown",
   "id": "5a5bc393-4a1e-4575-b050-87ff3a3fd925",
   "metadata": {},
   "source": [
    "## Small Example → Check Even / Odd\n"
   ]
  },
  {
   "cell_type": "code",
   "execution_count": 6,
   "id": "0c5c297b-6f51-4186-8193-ec50704b300f",
   "metadata": {},
   "outputs": [
    {
     "name": "stdout",
     "output_type": "stream",
     "text": [
      "Odd number\n"
     ]
    }
   ],
   "source": [
    "num = 7\n",
    "if num % 2 == 0:\n",
    "    print(\"Even number\")\n",
    "else:\n",
    "    print(\"Odd number\")\n"
   ]
  },
  {
   "cell_type": "markdown",
   "id": "2446a859-79ee-4d44-8e47-f75d767da7d7",
   "metadata": {},
   "source": [
    "-njn"
   ]
  }
 ],
 "metadata": {
  "kernelspec": {
   "display_name": "Python 3 (ipykernel)",
   "language": "python",
   "name": "python3"
  },
  "language_info": {
   "codemirror_mode": {
    "name": "ipython",
    "version": 3
   },
   "file_extension": ".py",
   "mimetype": "text/x-python",
   "name": "python",
   "nbconvert_exporter": "python",
   "pygments_lexer": "ipython3",
   "version": "3.13.5"
  }
 },
 "nbformat": 4,
 "nbformat_minor": 5
}
